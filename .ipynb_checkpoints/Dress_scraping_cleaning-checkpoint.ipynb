{
 "cells": [
  {
   "cell_type": "code",
   "execution_count": 91,
   "metadata": {},
   "outputs": [
    {
     "ename": "SyntaxError",
     "evalue": "invalid syntax (<ipython-input-91-73ae4d039db5>, line 1)",
     "output_type": "error",
     "traceback": [
      "\u001b[0;36m  File \u001b[0;32m\"<ipython-input-91-73ae4d039db5>\"\u001b[0;36m, line \u001b[0;32m1\u001b[0m\n\u001b[0;31m    test_value = # VALUE\u001b[0m\n\u001b[0m                        ^\u001b[0m\n\u001b[0;31mSyntaxError\u001b[0m\u001b[0;31m:\u001b[0m invalid syntax\n"
     ]
    }
   ],
   "source": [
    "test_value = # VALUE\n",
    "print(test_value)\n",
    "def fun_test(value):\n",
    "    # GUTS\n",
    "    return value_final\n",
    "return_deets(test_value)"
   ]
  },
  {
   "cell_type": "markdown",
   "metadata": {},
   "source": [
    "## 0.1 Imports"
   ]
  },
  {
   "cell_type": "code",
   "execution_count": 3,
   "metadata": {},
   "outputs": [],
   "source": [
    "# Imports 1\n",
    "import pandas as pd\n",
    "import numpy as np\n",
    "\n",
    "\n",
    "# Scraping Libraries\n",
    "import requests\n",
    "from time import sleep\n",
    "from bs4 import BeautifulSoup\n",
    "import re\n",
    "from random import randint"
   ]
  },
  {
   "cell_type": "code",
   "execution_count": 15,
   "metadata": {},
   "outputs": [
    {
     "data": {
      "text/plain": [
       "0.3186"
      ]
     },
     "execution_count": 15,
     "metadata": {},
     "output_type": "execute_result"
    }
   ],
   "source": [
    "randint(1000,3999)/10000"
   ]
  },
  {
   "cell_type": "markdown",
   "metadata": {},
   "source": [
    "## Data Collection & Cleaning"
   ]
  },
  {
   "cell_type": "markdown",
   "metadata": {},
   "source": [
    "list_links = []\n",
    "count = 0\n",
    "list_dicts = []"
   ]
  },
  {
   "cell_type": "markdown",
   "metadata": {},
   "source": [
    "Future Improvement: Use Count here similarly as it's used in next code block"
   ]
  },
  {
   "cell_type": "code",
   "execution_count": 13,
   "metadata": {
    "scrolled": true
   },
   "outputs": [
    {
     "name": "stdout",
     "output_type": "stream",
     "text": [
      "27\n",
      "28\n",
      "29\n",
      "30\n",
      "31\n",
      "32\n",
      "33\n",
      "34\n",
      "35\n",
      "36\n",
      "37\n",
      "38\n",
      "39\n",
      "40\n",
      "41\n",
      "42\n",
      "43\n",
      "44\n",
      "45\n",
      "46\n",
      "47\n",
      "48\n",
      "49\n",
      "50\n",
      "51\n",
      "52\n",
      "53\n",
      "54\n",
      "55\n",
      "56\n",
      "57\n",
      "58\n",
      "59\n",
      "60\n",
      "61\n",
      "62\n",
      "63\n",
      "64\n",
      "65\n",
      "66\n",
      "67\n"
     ]
    }
   ],
   "source": [
    "for num in range(27,68):\n",
    "    url = (\"https://www.macys.com/shop/womens-clothing/dresses/\" +\n",
    "        \"Pageindex,Productsperpage,Sortby/\" + str(num) + \",120,NEW_ITEMS?id=5449\")\n",
    "    print(num)\n",
    "    html = BeautifulSoup(requests.get(url, headers = {'User-agent':'Electronic Goddess'}).text)\n",
    "    for item in html.select('li.productThumbnailItem > div > div > a'):\n",
    "        list_links.append('https://www.macys.com' + item.attrs['href'])\n",
    "    sleep(2 + randint(100,3999)/1000)"
   ]
  },
  {
   "cell_type": "markdown",
   "metadata": {},
   "source": [
    "Future Improvement:\n",
    "instead of Try/Except\n",
    "do is Nonetype for errors"
   ]
  },
  {
   "cell_type": "code",
   "execution_count": 40,
   "metadata": {
    "collapsed": true
   },
   "outputs": [
    {
     "name": "stdout",
     "output_type": "stream",
     "text": [
      "7828 200\n",
      "7829 200\n",
      "7830 200\n",
      "7831 200\n",
      "7832 200\n",
      "7833 200\n",
      "7834 200\n",
      "7835 200\n",
      "7836 200\n",
      "7837 200\n",
      "7838 200\n",
      "7839 200\n",
      "7840 200\n",
      "7841 200\n",
      "7842 200\n",
      "7843 200\n",
      "7844 200\n",
      "7845 200\n",
      "7846 200\n",
      "7847 200\n",
      "7848 200\n",
      "7849 200\n",
      "7850 200\n",
      "7851 200\n",
      "7852 200\n",
      "7853 200\n",
      "7854 200\n",
      "7855 200\n",
      "7856 200\n",
      "7857 200\n",
      "7858 200\n",
      "7859 200\n",
      "7860 200\n",
      "7861 200\n",
      "7862 200\n",
      "7863 200\n",
      "7864 200\n",
      "7865 200\n",
      "7866 200\n",
      "7867 200\n",
      "7868 200\n",
      "7869 200\n",
      "7870 200\n",
      "7871 200\n",
      "7872 200\n",
      "7873 200\n",
      "7874 200\n",
      "7875 200\n",
      "7876 200\n",
      "7877 200\n",
      "7878 200\n",
      "7879 200\n",
      "7880 200\n",
      "7881 200\n",
      "7882 200\n",
      "7883 200\n",
      "7884 200\n",
      "7885 200\n",
      "7886 200\n",
      "7887 200\n",
      "7888 200\n",
      "7889 200\n",
      "7890 200\n",
      "7891 200\n",
      "7892 200\n",
      "7893 200\n",
      "7894 200\n",
      "7895 200\n",
      "7896 200\n",
      "7897 200\n",
      "7898 200\n",
      "7899 200\n",
      "7900 200\n",
      "7901 200\n",
      "7902 200\n",
      "7903 200\n",
      "7904 200\n",
      "7905 200\n",
      "7906 200\n",
      "7907 200\n",
      "7908 200\n",
      "7909 200\n",
      "7910 200\n",
      "7911 200\n",
      "7912 200\n",
      "7913 200\n",
      "7914 200\n",
      "7915 200\n",
      "7916 200\n",
      "7917 200\n",
      "7918 200\n",
      "7919 200\n",
      "7920 200\n",
      "7921 200\n",
      "7922 200\n",
      "7923 200\n",
      "7924 200\n",
      "7925 200\n",
      "7926 200\n",
      "7927 200\n",
      "7928 200\n",
      "7929 200\n",
      "7930 200\n",
      "7931 200\n",
      "7932 200\n",
      "7933 200\n",
      "7934 200\n",
      "7935 200\n",
      "7936 200\n",
      "7937 200\n",
      "7938 200\n",
      "7939 200\n",
      "7940 200\n",
      "7941 200\n",
      "7942 200\n",
      "7943 200\n",
      "7944 200\n",
      "7945 200\n",
      "7946 200\n",
      "7947 200\n",
      "7948 200\n",
      "7949 200\n",
      "7950 200\n",
      "7951 200\n",
      "7952 200\n",
      "7953 200\n",
      "7954 200\n",
      "7955 200\n",
      "7956 200\n",
      "7957 200\n",
      "7958 200\n",
      "7959 200\n",
      "7960 200\n",
      "7961 200\n",
      "7962 200\n",
      "7963 200\n",
      "7964 200\n",
      "7965 200\n",
      "7966 200\n",
      "7967 200\n",
      "7968 200\n",
      "7969 200\n",
      "7970 200\n",
      "7971 200\n",
      "7972 200\n",
      "7973 200\n",
      "7974 200\n",
      "7975 200\n",
      "7976 200\n",
      "7977 200\n",
      "7978 200\n",
      "7979 200\n",
      "7980 200\n",
      "7981 200\n",
      "7982 200\n",
      "7983 200\n",
      "7984 200\n",
      "7985 200\n",
      "7986 200\n",
      "7987 200\n",
      "7988 200\n",
      "7989 200\n",
      "7990 200\n",
      "7991 200\n",
      "7992 200\n",
      "7993 200\n",
      "7994 200\n",
      "7995 200\n",
      "7996 200\n",
      "7997 200\n",
      "7998 200\n",
      "7999 200\n",
      "8000 200\n",
      "8001 200\n",
      "8002 200\n",
      "8003 200\n",
      "8004 200\n",
      "8005 200\n",
      "8006 200\n",
      "8007 200\n",
      "8008 200\n",
      "8009 200\n",
      "8010 200\n",
      "8011 200\n",
      "8012 200\n",
      "8013 200\n",
      "8014 200\n",
      "8015 200\n",
      "8016 200\n",
      "8017 200\n",
      "8018 200\n",
      "8019 200\n",
      "8020 200\n",
      "8021 200\n",
      "8022 200\n",
      "8023 200\n",
      "8024 200\n",
      "8025 200\n",
      "8026 200\n",
      "8027 200\n",
      "8028 200\n",
      "8029 200\n",
      "8030 200\n",
      "8031 200\n",
      "8032 200\n",
      "8033 200\n",
      "8034 200\n",
      "8035 200\n"
     ]
    }
   ],
   "source": [
    "for url in list_links[count:]:\n",
    "    get_request = requests.get(url, \n",
    "        headers = {'User-agent':'Electronic Goddess'})\n",
    "    \n",
    "    print(count, get_request.status_code)\n",
    "    html = BeautifulSoup(get_request.text)\n",
    "    dict_item = {\n",
    "        'url'   : url,\n",
    "        \"brand\" : html.select_one('h4 > a').string.strip(),\n",
    "        \"title\" : html.select_one('h1').string.strip(),\n",
    "        'raw_description' : html.select_one(\n",
    "            'div[data-el=\"product-details\"]')}\n",
    "    try:\n",
    "        dict_item[\"price\"] = html.select_one('div.price').string.strip()\n",
    "    except:\n",
    "        dict_item[\"price\"] = 'Error'\n",
    "        \n",
    "    # Colors\n",
    "    list_colors = []\n",
    "    for color in html.select('li.color-swatch > div'):\n",
    "        list_colors.append(color.attrs['aria-label'])\n",
    "    dict_item['colors'] = list_colors\n",
    "    list_dicts.append(dict_item)\n",
    "    count += 1\n",
    "    sleep(0.5 + randint(1000,3999)/10000)"
   ]
  },
  {
   "cell_type": "code",
   "execution_count": 41,
   "metadata": {},
   "outputs": [],
   "source": [
    "df = pd.DataFrame(list_dicts)"
   ]
  },
  {
   "cell_type": "code",
   "execution_count": 44,
   "metadata": {},
   "outputs": [],
   "source": [
    "df.to_csv('./data/macys_dresses_4_4_2020_v4.csv', index = False)"
   ]
  },
  {
   "cell_type": "markdown",
   "metadata": {},
   "source": [
    "## Cleaning"
   ]
  },
  {
   "cell_type": "code",
   "execution_count": 65,
   "metadata": {},
   "outputs": [],
   "source": [
    "# Dropping columns that had Error prices\n",
    "mask = df['price'] == 'Error'\n",
    "df.drop(df[mask].index, inplace = True)"
   ]
  },
  {
   "cell_type": "code",
   "execution_count": 66,
   "metadata": {},
   "outputs": [],
   "source": [
    "# Cleaning Price Column\n",
    "df['price'] = df['price'].map(lambda x: float(\n",
    "    x.strip('Reg. ').strip('Org. ').strip('Will Be ').strip('ig. ').strip('$')))"
   ]
  },
  {
   "cell_type": "code",
   "execution_count": 90,
   "metadata": {},
   "outputs": [],
   "source": [
    "# Generating Web ID\n",
    "df['Web_ID'] = df['raw_description'].map(lambda x: \n",
    "    int(re.findall(\"Web ID: [\\d]+\", x.text)[0].replace('Web ID: ', '')))"
   ]
  },
  {
   "cell_type": "code",
   "execution_count": 104,
   "metadata": {},
   "outputs": [],
   "source": [
    "# Joining list of colors\n",
    "df['colors'] = df['colors'].map(lambda x: ', '.join(x))"
   ]
  },
  {
   "cell_type": "code",
   "execution_count": 106,
   "metadata": {},
   "outputs": [],
   "source": [
    "# Dropping Duplicates\n",
    "df.drop_duplicates(inplace = True)"
   ]
  },
  {
   "cell_type": "code",
   "execution_count": 154,
   "metadata": {},
   "outputs": [],
   "source": [
    "# Cleaning Description\n",
    "df['description'] = df['raw_description'].map(lambda x: x.text.split('Web ID:')[0].strip())"
   ]
  },
  {
   "cell_type": "code",
   "execution_count": 157,
   "metadata": {},
   "outputs": [],
   "source": [
    "# Dropping Raw Description\n",
    "df.drop('raw_description', axis = 1, inplace = True)"
   ]
  },
  {
   "cell_type": "code",
   "execution_count": 167,
   "metadata": {},
   "outputs": [],
   "source": [
    "# All Words into single Doc \n",
    "df['all_words'] = (df['brand'] + ' ' + df['title'] + ' ' + df['colors'] + ' ' + df['description'])\n"
   ]
  },
  {
   "cell_type": "markdown",
   "metadata": {},
   "source": [
    "Future Improvement: This is currently imperfect as later \"brand\" will be processed via cvec rules rather than dummies.  Address this later as appropriate."
   ]
  },
  {
   "cell_type": "code",
   "execution_count": 169,
   "metadata": {},
   "outputs": [],
   "source": [
    "#df.to_csv('./data/Macys_dresses_4_4_2020_cleaned.csv', index = False)"
   ]
  },
  {
   "cell_type": "markdown",
   "metadata": {},
   "source": [
    "## Notes"
   ]
  },
  {
   "cell_type": "code",
   "execution_count": 3,
   "metadata": {},
   "outputs": [],
   "source": [
    "test_url = \"\"\"https://www.kohls.com/catalog/womens-dresses-clothing.jsp?\n",
    "CN=Gender:Womens+Category:Dresses+Department:Clothing&cc=wms-TN2.0-S-dresses&\n",
    "kls_sbp=81416207104345211920466541436755320712&PPP=120\"\"\""
   ]
  },
  {
   "cell_type": "code",
   "execution_count": null,
   "metadata": {},
   "outputs": [],
   "source": [
    "'&WS='"
   ]
  },
  {
   "cell_type": "code",
   "execution_count": null,
   "metadata": {},
   "outputs": [],
   "source": [
    "count_dresses = "
   ]
  },
  {
   "cell_type": "code",
   "execution_count": null,
   "metadata": {},
   "outputs": [],
   "source": []
  },
  {
   "cell_type": "code",
   "execution_count": null,
   "metadata": {},
   "outputs": [],
   "source": [
    "Mod Cloth:\n",
    "Last Page:\n",
    "https://www.modcloth.com/shop/dresses?start=600&sz=300"
   ]
  },
  {
   "cell_type": "markdown",
   "metadata": {},
   "source": [
    "List of further compahnies to scrape skirts from:\n",
    " - collegefashion.net/shopping/top-10-best-stores-for-fashion-on-a-budget/\n",
    " \n",
    "Khol's (~ 1945)\n",
    " - https://www.kohls.com/catalog/womens-dresses-clothing.jsp?CN=Gender:Womens+Category:Dresses+Department:Clothing&cc=wms-TN2.0-S-dresses&kls_sbp=81416207104345211920466541436755320712\n",
    "\n",
    "https://www.kohls.com/catalog/womens-dresses-clothing.jsp?CN=Gender:Womens+Category:Dresses+Department:Clothing&cc=wms-TN2.0-S-dresses&kls_sbp=81416207104345211920466541436755320712&PPP=48&WS=48\n",
    "\n",
    "https://www.kohls.com/catalog/womens-dresses-clothing.jsp?CN=Gender:Womens+Category:Dresses+Department:Clothing&cc=wms-TN2.0-S-dresses&kls_sbp=81416207104345211920466541436755320712&PPP=120&WS=240\n",
    "\n",
    "ModCloth (>500)\n",
    " - https://www.modcloth.com/shop/dresses?sz=300\n",
    "\n",
    "Francesca's (>360)\n",
    " - https://www.francescas.com/category/dresses.do?c=106120&pp=120&sortby=newArrivalsDescend&sortType=1\n",
    " \n",
    "Express (~ 250, with jumpsuits & Rompers mixed in)\n",
    " - https://www.express.com/womens-clothing/dresses/cat550007\n",
    " \n",
    "Joe Fresh  (<100) \n",
    "https://www.joefresh.com/us/Categories/Women/Women%27s-Dresses/c/10015?q=%3Anewest%3Asize%3AXS%3Asize%3AL%3Asize%3AS%3Asize%3AXL%3Asize%3AM%3Asize%3AXXL&sort=newest&q=:newest:size:XS:size:L:size:S:size:XL:size:M:size:XXL&text=\n",
    " \n",
    "J. Crew (<50, in non-plus)\n",
    " - https://factory.jcrew.com/c/womens-clothing/dresses\n",
    "\n",
    "Nordstrom Rack\n",
    "Topshop\n",
    "Online and In-Person Thrift/Second-Hand Stores !?\n",
    "Zara\n",
    "Mango\n",
    "Baublebar\n",
    "Uniqlo\n",
    "Torrid\n",
    "H&M\n",
    "Old Navy\n",
    "ASOS\n",
    "Target\n",
    "Forever 21"
   ]
  },
  {
   "cell_type": "markdown",
   "metadata": {},
   "source": [
    "https://www.macys.com/shop/womens-clothing/dresses/Sortby/NEW_ITEMS?id=5449\n",
    "https://www.macys.com/shop/womens-clothing/dresses/Pageindex,Productsperpage/2,120?id=5449\n",
    "https://www.macys.com/shop/womens-clothing/dresses/Pageindex,Productsperpage,Sortby/2,120,NEW_ITEMS?id=5449"
   ]
  },
  {
   "cell_type": "code",
   "execution_count": null,
   "metadata": {},
   "outputs": [],
   "source": []
  },
  {
   "cell_type": "markdown",
   "metadata": {},
   "source": [
    "## Recycling Bin"
   ]
  },
  {
   "cell_type": "code",
   "execution_count": null,
   "metadata": {},
   "outputs": [],
   "source": [
    "## 1.2 Experiment: Indicator of Attribute Present\n",
    "test_value = df['all_words'][0]\n",
    "print(test_value)\n",
    "def return_deets(doc):\n",
    "    dict_result = {\n",
    "        'test' : re.findall(\n",
    "            \"model height is [\\d\\\\'\\\"]+\", doc),\n",
    "        'Skirt inseam' : re.findall(\n",
    "            'Skirt inseam: (\\d+)', doc),\n",
    "        #'' : re.findall(\n",
    "        #    '', doc),\n",
    "        'test' : re.search('Due', doc)\n",
    "        }\n",
    "    return dict_result\n",
    "return_deets(test_value)"
   ]
  },
  {
   "cell_type": "code",
   "execution_count": null,
   "metadata": {},
   "outputs": [],
   "source": [
    "re.findall('model height')"
   ]
  },
  {
   "cell_type": "code",
   "execution_count": null,
   "metadata": {},
   "outputs": [],
   "source": [
    "        '' : re.findall(\n",
    "            '', doc),"
   ]
  },
  {
   "cell_type": "code",
   "execution_count": 7,
   "metadata": {
    "collapsed": true
   },
   "outputs": [
    {
     "ename": "NameError",
     "evalue": "name 'test_value' is not defined",
     "output_type": "error",
     "traceback": [
      "\u001b[0;31m---------------------------------------------------------------------------\u001b[0m",
      "\u001b[0;31mNameError\u001b[0m                                 Traceback (most recent call last)",
      "\u001b[0;32m<ipython-input-7-b0bf980d58c7>\u001b[0m in \u001b[0;36m<module>\u001b[0;34m\u001b[0m\n\u001b[0;32m----> 1\u001b[0;31m \u001b[0mtest\u001b[0m \u001b[0;34m=\u001b[0m \u001b[0mre\u001b[0m\u001b[0;34m.\u001b[0m\u001b[0mmatch\u001b[0m\u001b[0;34m(\u001b[0m\u001b[0;34m'Due'\u001b[0m\u001b[0;34m,\u001b[0m \u001b[0mtest_value\u001b[0m\u001b[0;34m)\u001b[0m\u001b[0;34m\u001b[0m\u001b[0;34m\u001b[0m\u001b[0m\n\u001b[0m\u001b[1;32m      2\u001b[0m \u001b[0mtest\u001b[0m \u001b[0;32mis\u001b[0m \u001b[0;32mNone\u001b[0m\u001b[0;34m\u001b[0m\u001b[0;34m\u001b[0m\u001b[0m\n",
      "\u001b[0;31mNameError\u001b[0m: name 'test_value' is not defined"
     ]
    }
   ],
   "source": [
    "test = re.match('Due', test_value)\n",
    "test is None"
   ]
  },
  {
   "cell_type": "code",
   "execution_count": 152,
   "metadata": {},
   "outputs": [],
   "source": [
    "#df.drop('url', axis = 1, inplace = True)"
   ]
  },
  {
   "cell_type": "code",
   "execution_count": 91,
   "metadata": {},
   "outputs": [
    {
     "ename": "SyntaxError",
     "evalue": "invalid syntax (<ipython-input-91-73ae4d039db5>, line 1)",
     "output_type": "error",
     "traceback": [
      "\u001b[0;36m  File \u001b[0;32m\"<ipython-input-91-73ae4d039db5>\"\u001b[0;36m, line \u001b[0;32m1\u001b[0m\n\u001b[0;31m    test_value = # VALUE\u001b[0m\n\u001b[0m                        ^\u001b[0m\n\u001b[0;31mSyntaxError\u001b[0m\u001b[0;31m:\u001b[0m invalid syntax\n"
     ]
    }
   ],
   "source": [
    "test_value = # VALUE\n",
    "print(test_value)\n",
    "def fun_test(value):\n",
    "    # GUTS\n",
    "    return value_final\n",
    "return_deets(test_value)"
   ]
  },
  {
   "cell_type": "code",
   "execution_count": 132,
   "metadata": {},
   "outputs": [],
   "source": [
    "test = list(filter(lambda a: a != '', test))[:-1]"
   ]
  }
 ],
 "metadata": {
  "kernelspec": {
   "display_name": "Python 3",
   "language": "python",
   "name": "python3"
  },
  "language_info": {
   "codemirror_mode": {
    "name": "ipython",
    "version": 3
   },
   "file_extension": ".py",
   "mimetype": "text/x-python",
   "name": "python",
   "nbconvert_exporter": "python",
   "pygments_lexer": "ipython3",
   "version": "3.7.4"
  }
 },
 "nbformat": 4,
 "nbformat_minor": 2
}
