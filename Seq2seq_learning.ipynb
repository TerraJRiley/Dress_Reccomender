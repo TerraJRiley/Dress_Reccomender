{
 "cells": [
  {
   "cell_type": "code",
   "execution_count": 1,
   "metadata": {},
   "outputs": [],
   "source": [
    "# Standard Imports for all notebooks\n",
    "import pandas as pd\n",
    "import numpy as np\n",
    "import matplotlib.pyplot as plt\n",
    "import seaborn as sns\n",
    "%matplotlib inline"
   ]
  },
  {
   "cell_type": "markdown",
   "metadata": {},
   "source": [
    "## Seq2seq Notes:\n",
    "\n",
    "https://blog.keras.io/a-ten-minute-introduction-to-sequence-to-sequence-learning-in-keras.html\n",
    "Trivial Case:\n",
    "\n",
    " - In trivial cases the input is the same length as the output\n",
    " - This assumes it's possible to generate an output given an input.\n",
    " \n",
    "General Case: \n",
    "\n",
    " - Different lengths, but \"requires entire input sequence\"\n",
    " - Encoder RNN takes input and returns it's own internal state (AKA Context), which is for the decoder and not an output.\n",
    " - Decoder RNN trained to predict next characters of targer sequence given previous characters in seq.\n",
    " - Decoder RNN (more depth): \"turns target Seq into same Seqs, but offset by one timestep in the future.\" [not fully understood]\n",
    " - Decoder RNN uses state vectors from Encoder to condition/train it's responce prediction.\n",
    " \n",
    "When Decoding Unknown input sequences:\n",
    "\n",
    "\n",
    ".\n",
    ".\n",
    ".\n",
    "\n",
    "Keras Example\n",
    "\n"
   ]
  },
  {
   "cell_type": "code",
   "execution_count": 2,
   "metadata": {},
   "outputs": [
    {
     "name": "stdout",
     "output_type": "stream",
     "text": [
      "\u001b[33mDEPRECATION: Python 2.7 will reach the end of its life on January 1st, 2020. Please upgrade your Python as Python 2.7 won't be maintained after that date. A future version of pip will drop support for Python 2.7. More details about Python 2 support in pip, can be found at https://pip.pypa.io/en/latest/development/release-process/#python-2-support\u001b[0m\n",
      "Requirement already satisfied: matplotlib in /System/Library/Frameworks/Python.framework/Versions/2.7/Extras/lib/python (1.3.1)\n",
      "Requirement already satisfied: numpy>=1.5 in /Users/pearl/Library/Python/2.7/lib/python/site-packages (from matplotlib) (1.16.6)\n",
      "Requirement already satisfied: python-dateutil in /System/Library/Frameworks/Python.framework/Versions/2.7/Extras/lib/python (from matplotlib) (1.5)\n",
      "Requirement already satisfied: tornado in /Users/pearl/Library/Python/2.7/lib/python/site-packages (from matplotlib) (5.1.1)\n",
      "Requirement already satisfied: pyparsing>=1.5.6 in /System/Library/Frameworks/Python.framework/Versions/2.7/Extras/lib/python (from matplotlib) (2.0.1)\n",
      "Requirement already satisfied: nose in /Users/pearl/Library/Python/2.7/lib/python/site-packages (from matplotlib) (1.3.7)\n",
      "Requirement already satisfied: backports-abc>=0.4 in /Users/pearl/Library/Python/2.7/lib/python/site-packages (from tornado->matplotlib) (0.5)\n",
      "Requirement already satisfied: futures in /Users/pearl/Library/Python/2.7/lib/python/site-packages (from tornado->matplotlib) (3.3.0)\n",
      "Requirement already satisfied: singledispatch in /Users/pearl/Library/Python/2.7/lib/python/site-packages (from tornado->matplotlib) (3.4.0.3)\n",
      "Requirement already satisfied: six in /System/Library/Frameworks/Python.framework/Versions/2.7/Extras/lib/python (from singledispatch->tornado->matplotlib) (1.12.0)\n"
     ]
    }
   ],
   "source": [
    "!pip install matplotlib --user"
   ]
  },
  {
   "cell_type": "code",
   "execution_count": 10,
   "metadata": {},
   "outputs": [
    {
     "name": "stdout",
     "output_type": "stream",
     "text": [
      "\u001b[33mDEPRECATION: Python 2.7 will reach the end of its life on January 1st, 2020. Please upgrade your Python as Python 2.7 won't be maintained after that date. A future version of pip will drop support for Python 2.7. More details about Python 2 support in pip, can be found at https://pip.pypa.io/en/latest/development/release-process/#python-2-support\u001b[0m\n",
      "Requirement already satisfied: pip in /Library/Python/2.7/site-packages/pip-19.3.1-py2.7.egg (19.3.1)\n"
     ]
    }
   ],
   "source": [
    "!pip install pip # install tensorflow --user"
   ]
  },
  {
   "cell_type": "code",
   "execution_count": 11,
   "metadata": {},
   "outputs": [
    {
     "name": "stdout",
     "output_type": "stream",
     "text": [
      "\u001b[33mDEPRECATION: Python 2.7 will reach the end of its life on January 1st, 2020. Please upgrade your Python as Python 2.7 won't be maintained after that date. A future version of pip will drop support for Python 2.7. More details about Python 2 support in pip, can be found at https://pip.pypa.io/en/latest/development/release-process/#python-2-support\u001b[0m\n",
      "Requirement already satisfied: keras in /Users/pearl/Library/Python/2.7/lib/python/site-packages (2.3.1)\n",
      "Requirement already satisfied: h5py in /Users/pearl/Library/Python/2.7/lib/python/site-packages (from keras) (2.10.0)\n",
      "Requirement already satisfied: numpy>=1.9.1 in /Users/pearl/Library/Python/2.7/lib/python/site-packages (from keras) (1.16.6)\n",
      "Requirement already satisfied: keras-applications>=1.0.6 in /Users/pearl/Library/Python/2.7/lib/python/site-packages (from keras) (1.0.8)\n",
      "Requirement already satisfied: six>=1.9.0 in /System/Library/Frameworks/Python.framework/Versions/2.7/Extras/lib/python (from keras) (1.12.0)\n",
      "Requirement already satisfied: scipy>=0.14 in /Users/pearl/Library/Python/2.7/lib/python/site-packages (from keras) (1.2.2)\n",
      "Requirement already satisfied: keras-preprocessing>=1.0.5 in /Users/pearl/Library/Python/2.7/lib/python/site-packages (from keras) (1.1.2)\n",
      "Requirement already satisfied: pyyaml in /Users/pearl/Library/Python/2.7/lib/python/site-packages (from keras) (5.3.1)\n"
     ]
    }
   ],
   "source": [
    "!pip install keras --user"
   ]
  },
  {
   "cell_type": "code",
   "execution_count": 12,
   "metadata": {},
   "outputs": [
    {
     "ename": "ModuleNotFoundError",
     "evalue": "No module named 'keras'",
     "output_type": "error",
     "traceback": [
      "\u001b[0;31m---------------------------------------------------------------------------\u001b[0m",
      "\u001b[0;31mModuleNotFoundError\u001b[0m                       Traceback (most recent call last)",
      "\u001b[0;32m<ipython-input-12-a09aa8ff2f09>\u001b[0m in \u001b[0;36m<module>\u001b[0;34m\u001b[0m\n\u001b[0;32m----> 1\u001b[0;31m \u001b[0;32mfrom\u001b[0m \u001b[0mkeras\u001b[0m\u001b[0;34m.\u001b[0m\u001b[0mmodels\u001b[0m \u001b[0;32mimport\u001b[0m \u001b[0mModel\u001b[0m\u001b[0;34m\u001b[0m\u001b[0;34m\u001b[0m\u001b[0m\n\u001b[0m\u001b[1;32m      2\u001b[0m \u001b[0;32mfrom\u001b[0m \u001b[0mkeras\u001b[0m\u001b[0;34m.\u001b[0m\u001b[0mlayers\u001b[0m \u001b[0;32mimport\u001b[0m \u001b[0mInput\u001b[0m\u001b[0;34m,\u001b[0m \u001b[0mLSTM\u001b[0m\u001b[0;34m,\u001b[0m \u001b[0mDense\u001b[0m\u001b[0;34m\u001b[0m\u001b[0;34m\u001b[0m\u001b[0m\n",
      "\u001b[0;31mModuleNotFoundError\u001b[0m: No module named 'keras'"
     ]
    }
   ],
   "source": [
    "from keras.models import Model\n",
    "from keras.layers import Input, LSTM, Dense"
   ]
  },
  {
   "cell_type": "code",
   "execution_count": 20,
   "metadata": {},
   "outputs": [
    {
     "data": {
      "text/plain": [
       "['/Users/pearl/Library/Python/2.7/bin',\n",
       " '/Users/pearl/Library/Python/2.7/bin',\n",
       " '/Users/pearl/Desktop/📈 Data/Projects/Dress_Reccomender',\n",
       " '/Users/pearl/opt/anaconda3/lib/python37.zip',\n",
       " '/Users/pearl/opt/anaconda3/lib/python3.7',\n",
       " '/Users/pearl/opt/anaconda3/lib/python3.7/lib-dynload',\n",
       " '',\n",
       " '/Users/pearl/opt/anaconda3/lib/python3.7/site-packages',\n",
       " '/Users/pearl/opt/anaconda3/lib/python3.7/site-packages/aeosa',\n",
       " '/Users/pearl/opt/anaconda3/lib/python3.7/site-packages/IPython/extensions',\n",
       " '/Users/pearl/.ipython']"
      ]
     },
     "execution_count": 20,
     "metadata": {},
     "output_type": "execute_result"
    }
   ],
   "source": [
    "import sys\n",
    "sys.path#.insert(0,'/Users/pearl/Library/Python/2.7/bin')"
   ]
  },
  {
   "cell_type": "code",
   "execution_count": null,
   "metadata": {},
   "outputs": [],
   "source": []
  }
 ],
 "metadata": {
  "kernelspec": {
   "display_name": "Python 3",
   "language": "python",
   "name": "python3"
  },
  "language_info": {
   "codemirror_mode": {
    "name": "ipython",
    "version": 3
   },
   "file_extension": ".py",
   "mimetype": "text/x-python",
   "name": "python",
   "nbconvert_exporter": "python",
   "pygments_lexer": "ipython3",
   "version": "3.7.6"
  }
 },
 "nbformat": 4,
 "nbformat_minor": 2
}
