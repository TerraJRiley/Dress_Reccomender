{
 "cells": [
  {
   "cell_type": "markdown",
   "metadata": {},
   "source": [
    "## 1.) Set Up"
   ]
  },
  {
   "cell_type": "code",
   "execution_count": 6,
   "metadata": {},
   "outputs": [],
   "source": [
    "# 1.1 Module Imports\n",
    "import re \n",
    "import numpy as np\n",
    "import pandas as pd\n",
    "from nltk import word_tokenize\n",
    "from nltk.corpus import stopwords\n",
    "from nltk.stem import WordNetLemmatizer\n",
    "from sklearn.metrics.pairwise import linear_kernel\n",
    "from sklearn.feature_extraction.text import CountVectorizer, TfidfVectorizer"
   ]
  },
  {
   "cell_type": "code",
   "execution_count": 7,
   "metadata": {},
   "outputs": [],
   "source": [
    "# 1.2 Defining the TFIDF\n",
    "def preprocess(text):\n",
    "    text = re.sub(r'[^a-zA-Z]',' ', text.lower())\n",
    "    tokens = word_tokenize(text)\n",
    "    lemmer = WordNetLemmatizer()\n",
    "    stop_words = stopwords.words(\"english\")\n",
    "    return \" \".join([lemmer.lemmatize(word) for word \n",
    "                     in tokens if len(word) > 1 and not word in stop_words])\n",
    "\n",
    "tfidf = TfidfVectorizer(analyzer='word', \n",
    "                     #ngram_range=(1, 3), \n",
    "                     preprocessor = preprocess,\n",
    "                     min_df=2,  # May take out for overfit\n",
    "                     stop_words='english')"
   ]
  },
  {
   "cell_type": "code",
   "execution_count": 9,
   "metadata": {},
   "outputs": [
    {
     "data": {
      "text/html": [
       "<div>\n",
       "<style scoped>\n",
       "    .dataframe tbody tr th:only-of-type {\n",
       "        vertical-align: middle;\n",
       "    }\n",
       "\n",
       "    .dataframe tbody tr th {\n",
       "        vertical-align: top;\n",
       "    }\n",
       "\n",
       "    .dataframe thead th {\n",
       "        text-align: right;\n",
       "    }\n",
       "</style>\n",
       "<table border=\"1\" class=\"dataframe\">\n",
       "  <thead>\n",
       "    <tr style=\"text-align: right;\">\n",
       "      <th></th>\n",
       "      <th>url</th>\n",
       "      <th>brand</th>\n",
       "      <th>title</th>\n",
       "      <th>price</th>\n",
       "      <th>colors</th>\n",
       "      <th>Web_ID</th>\n",
       "      <th>description</th>\n",
       "      <th>all_words</th>\n",
       "    </tr>\n",
       "  </thead>\n",
       "  <tbody>\n",
       "    <tr>\n",
       "      <td>0</td>\n",
       "      <td>https://www.macys.com/shop/product/teeze-me-ju...</td>\n",
       "      <td>Teeze Me</td>\n",
       "      <td>Juniors' 2-Pc. Off-The-Shoulder Bodycon Gown</td>\n",
       "      <td>139.0</td>\n",
       "      <td>Red/White</td>\n",
       "      <td>10500778</td>\n",
       "      <td>Slay your next event in this two-piece gown fr...</td>\n",
       "      <td>Teeze Me Juniors' 2-Pc. Off-The-Shoulder Bodyc...</td>\n",
       "    </tr>\n",
       "    <tr>\n",
       "      <td>1</td>\n",
       "      <td>https://www.macys.com/shop/product/sadie-sage-...</td>\n",
       "      <td>Sadie &amp; Sage</td>\n",
       "      <td>Long-Sleeve Ruffled Mini Dress</td>\n",
       "      <td>69.0</td>\n",
       "      <td>Navy</td>\n",
       "      <td>10560007</td>\n",
       "      <td>So sweet and chic with a tiered ruffled skirt,...</td>\n",
       "      <td>Sadie &amp; Sage Long-Sleeve Ruffled Mini Dress Na...</td>\n",
       "    </tr>\n",
       "    <tr>\n",
       "      <td>2</td>\n",
       "      <td>https://www.macys.com/shop/product/karen-kane-...</td>\n",
       "      <td>Karen Kane</td>\n",
       "      <td>Tie-Dyed Handkerchief-Hem Midi Dress</td>\n",
       "      <td>128.0</td>\n",
       "      <td>Tie Dye</td>\n",
       "      <td>10538864</td>\n",
       "      <td>A throwback look gets a chic update in this mi...</td>\n",
       "      <td>Karen Kane Tie-Dyed Handkerchief-Hem Midi Dres...</td>\n",
       "    </tr>\n",
       "  </tbody>\n",
       "</table>\n",
       "</div>"
      ],
      "text/plain": [
       "                                                 url         brand  \\\n",
       "0  https://www.macys.com/shop/product/teeze-me-ju...      Teeze Me   \n",
       "1  https://www.macys.com/shop/product/sadie-sage-...  Sadie & Sage   \n",
       "2  https://www.macys.com/shop/product/karen-kane-...    Karen Kane   \n",
       "\n",
       "                                          title  price     colors    Web_ID  \\\n",
       "0  Juniors' 2-Pc. Off-The-Shoulder Bodycon Gown  139.0  Red/White  10500778   \n",
       "1                Long-Sleeve Ruffled Mini Dress   69.0       Navy  10560007   \n",
       "2          Tie-Dyed Handkerchief-Hem Midi Dress  128.0    Tie Dye  10538864   \n",
       "\n",
       "                                         description  \\\n",
       "0  Slay your next event in this two-piece gown fr...   \n",
       "1  So sweet and chic with a tiered ruffled skirt,...   \n",
       "2  A throwback look gets a chic update in this mi...   \n",
       "\n",
       "                                           all_words  \n",
       "0  Teeze Me Juniors' 2-Pc. Off-The-Shoulder Bodyc...  \n",
       "1  Sadie & Sage Long-Sleeve Ruffled Mini Dress Na...  \n",
       "2  Karen Kane Tie-Dyed Handkerchief-Hem Midi Dres...  "
      ]
     },
     "execution_count": 9,
     "metadata": {},
     "output_type": "execute_result"
    }
   ],
   "source": [
    "# 1.3 Import data\n",
    "df = pd.read_csv('./data/Macys_dresses_4_4_2020_cleaned.csv')\n",
    "df.head(3)"
   ]
  },
  {
   "cell_type": "markdown",
   "metadata": {},
   "source": [
    "## 2.) Custom Recommendation System"
   ]
  },
  {
   "cell_type": "code",
   "execution_count": 39,
   "metadata": {},
   "outputs": [
    {
     "data": {
      "text/html": [
       "<div>\n",
       "<style scoped>\n",
       "    .dataframe tbody tr th:only-of-type {\n",
       "        vertical-align: middle;\n",
       "    }\n",
       "\n",
       "    .dataframe tbody tr th {\n",
       "        vertical-align: top;\n",
       "    }\n",
       "\n",
       "    .dataframe thead th {\n",
       "        text-align: right;\n",
       "    }\n",
       "</style>\n",
       "<table border=\"1\" class=\"dataframe\">\n",
       "  <thead>\n",
       "    <tr style=\"text-align: right;\">\n",
       "      <th></th>\n",
       "      <th>brand</th>\n",
       "      <th>title</th>\n",
       "      <th>Web_ID</th>\n",
       "    </tr>\n",
       "  </thead>\n",
       "  <tbody>\n",
       "    <tr>\n",
       "      <td>2</td>\n",
       "      <td>Karen Kane</td>\n",
       "      <td>Tie-Dyed Handkerchief-Hem Midi Dress</td>\n",
       "      <td>10538864</td>\n",
       "    </tr>\n",
       "    <tr>\n",
       "      <td>25</td>\n",
       "      <td>CeCe</td>\n",
       "      <td>Mesh Ruffle-Trim Dress</td>\n",
       "      <td>10538764</td>\n",
       "    </tr>\n",
       "    <tr>\n",
       "      <td>405</td>\n",
       "      <td>Sequin Hearts</td>\n",
       "      <td>Juniors' Strappy-Back Glitter Gown</td>\n",
       "      <td>10500760</td>\n",
       "    </tr>\n",
       "    <tr>\n",
       "      <td>5098</td>\n",
       "      <td>Tommy Hilfiger</td>\n",
       "      <td>Ruched Metallic Sheath Dress</td>\n",
       "      <td>10280828</td>\n",
       "    </tr>\n",
       "    <tr>\n",
       "      <td>7000</td>\n",
       "      <td>Tommy Hilfiger</td>\n",
       "      <td>Textured Sheath Dress</td>\n",
       "      <td>8947748</td>\n",
       "    </tr>\n",
       "  </tbody>\n",
       "</table>\n",
       "</div>"
      ],
      "text/plain": [
       "               brand                                 title    Web_ID\n",
       "2         Karen Kane  Tie-Dyed Handkerchief-Hem Midi Dress  10538864\n",
       "25              CeCe                Mesh Ruffle-Trim Dress  10538764\n",
       "405    Sequin Hearts    Juniors' Strappy-Back Glitter Gown  10500760\n",
       "5098  Tommy Hilfiger          Ruched Metallic Sheath Dress  10280828\n",
       "7000  Tommy Hilfiger                 Textured Sheath Dress   8947748"
      ]
     },
     "execution_count": 39,
     "metadata": {},
     "output_type": "execute_result"
    }
   ],
   "source": [
    "# Input: df & list of indexs for items of confirmed customer interest\n",
    "# Output: Series prepped with the items of interest at the end.\n",
    "\n",
    "list_ids_interst = [2, 25, 405, 5098, 7000]\n",
    "df.loc[list_ids_interst,['brand', 'title', 'Web_ID']]"
   ]
  },
  {
   "cell_type": "code",
   "execution_count": 40,
   "metadata": {},
   "outputs": [
    {
     "data": {
      "text/plain": [
       "7905    J Kara Beaded Gown with Shawl Silver/White A p...\n",
       "7906    Alex Evenings Skirt, Tiered Chiffon Midi Black...\n",
       "0       Karen Kane Tie-Dyed Handkerchief-Hem Midi Dres...\n",
       "dtype: object"
      ]
     },
     "execution_count": 40,
     "metadata": {},
     "output_type": "execute_result"
    }
   ],
   "source": [
    "df_sans_interest = df.drop(index = list_ids_interst)\n",
    "\n",
    "# Adding all the words in the list of interested items into one doc\n",
    "str_confirmed_interest = ' '.join(df.loc[list_ids_interst, 'all_words'])\n",
    "\n",
    "# Reattaching the doc to the end of the appropriate series\n",
    "temp_series = df_sans_interest['all_words'\n",
    "    ].append(pd.Series(str_confirmed_interest, name = 'test_target'))\n",
    "temp_series.tail(3)"
   ]
  },
  {
   "cell_type": "code",
   "execution_count": 41,
   "metadata": {},
   "outputs": [],
   "source": [
    "# Doing the maths\n",
    "tfidf = tf.fit_transform(temp_series)\n",
    "cosine_similarities = linear_kernel(tfidf, tfidf)\n",
    "#cosine_similarities[0:3]"
   ]
  },
  {
   "cell_type": "code",
   "execution_count": 42,
   "metadata": {},
   "outputs": [
    {
     "data": {
      "text/plain": [
       "[(0.5321020749866268, 6396),\n",
       " (0.47775396835683764, 5089),\n",
       " (0.4473857529241537, 3813)]"
      ]
     },
     "execution_count": 42,
     "metadata": {},
     "output_type": "execute_result"
    }
   ],
   "source": [
    "# Organizing the data for ONE SPECIFIC ROW\n",
    "#row = temp_series.iloc[-1]\n",
    "idx = temp_series.shape[0] - 1\n",
    "similar_indices = cosine_similarities[idx].argsort()[:-100:-1] # Returns values in order of most -> least.\n",
    "similar_items = [(cosine_similarities[idx][i], \n",
    "                  df.index[i]) for i in similar_indices]  # CHECK THIS 'Index'-based code\n",
    "closest = similar_items[1:]\n",
    "closest[0:3]"
   ]
  },
  {
   "cell_type": "code",
   "execution_count": 43,
   "metadata": {},
   "outputs": [
    {
     "name": "stdout",
     "output_type": "stream",
     "text": [
      "Recommended Dresses\n"
     ]
    },
    {
     "data": {
      "text/html": [
       "<div>\n",
       "<style scoped>\n",
       "    .dataframe tbody tr th:only-of-type {\n",
       "        vertical-align: middle;\n",
       "    }\n",
       "\n",
       "    .dataframe tbody tr th {\n",
       "        vertical-align: top;\n",
       "    }\n",
       "\n",
       "    .dataframe thead th {\n",
       "        text-align: right;\n",
       "    }\n",
       "</style>\n",
       "<table border=\"1\" class=\"dataframe\">\n",
       "  <thead>\n",
       "    <tr style=\"text-align: right;\">\n",
       "      <th></th>\n",
       "      <th>Brand</th>\n",
       "      <th>Title</th>\n",
       "      <th>Web_ID</th>\n",
       "      <th>Similarity</th>\n",
       "    </tr>\n",
       "  </thead>\n",
       "  <tbody>\n",
       "    <tr>\n",
       "      <td>1</td>\n",
       "      <td>Blondie Nites</td>\n",
       "      <td>Juniors' Strapless Sweetheart Dress</td>\n",
       "      <td>9486220</td>\n",
       "      <td>0.532</td>\n",
       "    </tr>\n",
       "    <tr>\n",
       "      <td>2</td>\n",
       "      <td>Calvin Klein</td>\n",
       "      <td>Plus Size Embellished Scuba Sheath Dress</td>\n",
       "      <td>10198892</td>\n",
       "      <td>0.478</td>\n",
       "    </tr>\n",
       "    <tr>\n",
       "      <td>3</td>\n",
       "      <td>Lauren Ralph Lauren</td>\n",
       "      <td>Crepe Fit-and-Flare Dress</td>\n",
       "      <td>10404311</td>\n",
       "      <td>0.447</td>\n",
       "    </tr>\n",
       "    <tr>\n",
       "      <td>4</td>\n",
       "      <td>B Darlin</td>\n",
       "      <td>Juniors' Lace &amp; Scuba Fit &amp; Flare Dress</td>\n",
       "      <td>10226691</td>\n",
       "      <td>0.431</td>\n",
       "    </tr>\n",
       "    <tr>\n",
       "      <td>5</td>\n",
       "      <td>BCBGeneration</td>\n",
       "      <td>Glossy Stretch Mini Dress</td>\n",
       "      <td>10287647</td>\n",
       "      <td>0.414</td>\n",
       "    </tr>\n",
       "  </tbody>\n",
       "</table>\n",
       "</div>"
      ],
      "text/plain": [
       "                 Brand                                     Title    Web_ID  \\\n",
       "1        Blondie Nites       Juniors' Strapless Sweetheart Dress   9486220   \n",
       "2         Calvin Klein  Plus Size Embellished Scuba Sheath Dress  10198892   \n",
       "3  Lauren Ralph Lauren                 Crepe Fit-and-Flare Dress  10404311   \n",
       "4             B Darlin   Juniors' Lace & Scuba Fit & Flare Dress  10226691   \n",
       "5        BCBGeneration                 Glossy Stretch Mini Dress  10287647   \n",
       "\n",
       "   Similarity  \n",
       "1       0.532  \n",
       "2       0.478  \n",
       "3       0.447  \n",
       "4       0.431  \n",
       "5       0.414  "
      ]
     },
     "execution_count": 43,
     "metadata": {},
     "output_type": "execute_result"
    }
   ],
   "source": [
    "print(\"Recommended Dresses\")\n",
    "list_o_dicts = []\n",
    "for i in closest[:5]:\n",
    "    list_o_dicts.append({\n",
    "        'Brand'      : df.loc[i[1],'brand'],\n",
    "        'Title'      : df.loc[i[1],'title'],\n",
    "        'Web_ID'     : df.loc[i[1],'Web_ID'],\n",
    "        'Similarity' : np.round(i[0],3) \n",
    "    })\n",
    "pd.DataFrame(list_o_dicts, index=range(1,6))"
   ]
  },
  {
   "cell_type": "markdown",
   "metadata": {},
   "source": [
    "# 3.) Example Reccomemders"
   ]
  },
  {
   "cell_type": "markdown",
   "metadata": {},
   "source": [
    "## 3.1 Copied via Heartbeat Code\n",
    "The following code (while minorly editd) was originally copied from the below URL.  Much of it has influenced my above code because understanding this code is how I've learned how to make a reccomendation system.\n",
    "\n",
    "https://heartbeat.fritz.ai/recommender-systems-with-python-part-i-content-based-filtering-5df4940bd831"
   ]
  },
  {
   "cell_type": "code",
   "execution_count": 114,
   "metadata": {},
   "outputs": [],
   "source": [
    "def preprocess(text):\n",
    "    text = re.sub(r'[^a-zA-Z]',' ', text.lower())\n",
    "    tokens = word_tokenize(text)\n",
    "    lemmer = WordNetLemmatizer()\n",
    "    stop_words = stopwords.words(\"english\")\n",
    "    return \" \".join([lemmer.lemmatize(word) for word \n",
    "                     in tokens if len(word) > 1 and not word in stop_words])\n",
    "\n",
    "tf = TfidfVectorizer(analyzer='word', \n",
    "                     #ngram_range=(1, 3), \n",
    "                     preprocessor = preprocess,\n",
    "                     min_df=2,  # May take out for overfit\n",
    "                     stop_words='english')\n",
    "\n",
    "# Her original TF-IDF\n",
    "#tf = TfidfVectorizer(analyzer='word', \n",
    "#                     ngram_range=(1, 3),\n",
    "#                     min_df=0, \n",
    "#                     stop_words='english')\n",
    "\n",
    "tfidf_matrix = tf.fit_transform(ds['description'])"
   ]
  },
  {
   "cell_type": "code",
   "execution_count": 116,
   "metadata": {},
   "outputs": [],
   "source": [
    "def fun_matrix_to_results(tfidf_matrix):\n",
    "    \"\"\"Here we’ve calculated the cosine similarity of each item with every other \n",
    "    item in the dataset, and then arranged them according to their similarity with \n",
    "    item i, and stored the values in results.\"\"\"\n",
    "    \n",
    "    cosine_similarities = linear_kernel(tfidf_matrix, tfidf_matrix) # Compare All.\n",
    "    results = {}\n",
    "    for idx, row in ds.iterrows():\n",
    "        similar_indices = cosine_similarities[idx\n",
    "            ].argsort()[:-100:-1] \n",
    "        similar_items = [(cosine_similarities[idx\n",
    "            ][i], ds['id'][i]) for i in similar_indices] # \n",
    "        results[row['id']] = similar_items[1:]\n",
    "    return results\n",
    "results = fun_matrix_to_results(tfidf_matrix)"
   ]
  },
  {
   "cell_type": "code",
   "execution_count": 117,
   "metadata": {},
   "outputs": [],
   "source": [
    "# Read and returns info from Original Dataframe\n",
    "def item(id): \n",
    "    return ds.loc[ds['id'] == id]['description'\n",
    "                                 ].tolist()[0].split(' - ')[0] \n",
    "\n",
    "def fun_org_recommend(item_id, num):\n",
    "    item_id = ds.iloc[(item_id - 1), 1].split(' - ')[0]\n",
    "    print(\"Recommending \" + str(num) + \" products similar to \" \n",
    "          + item(item_id) + \"...\")   \n",
    "    print(\"-------\")    \n",
    "    recs = results[item_id][:num]   \n",
    "    for rec in recs: \n",
    "        print(\"Recommended: \" + item(rec[1]) + \n",
    "              \" (score:\" + str(rec[0]) + \")\")\n",
    "    return"
   ]
  },
  {
   "cell_type": "markdown",
   "metadata": {},
   "source": [
    "## 3.2 Copied Datacamp Code \n",
    "The following code (while minorly editd) was originally copied from the below URL.  This code has influenced very little of my own custom code, but is left here for referense.\n",
    "\n",
    "https://www.datacamp.com/community/tutorials/recommender-systems-python"
   ]
  },
  {
   "cell_type": "code",
   "execution_count": 10,
   "metadata": {},
   "outputs": [],
   "source": [
    "#df = ps.read_csv('')\n",
    "#df['overview'] == df['all_words']\n",
    "from sklearn.feature_extraction.text import TfidfVectorizer\n",
    "tiffy = TfidfVectorizer(stop_words = 'english')\n",
    "tiffy_matrix = tiffy.fit_transform(df['all_words'])"
   ]
  },
  {
   "cell_type": "code",
   "execution_count": 22,
   "metadata": {},
   "outputs": [],
   "source": [
    "#Import linear_kernal to compute the dot product\n",
    "from sklearn.metrics.pairwise import linear_kernel\n",
    "#Compute cosine similarity matrix\n",
    "cosine_sim = linear_kernel(tiffy_matrix, tiffy_matrix) \n",
    "#constructreverse mapping indices & [movie titles] drop duplicate [titles], if any.\n",
    "indices = pd.Series(df.index, index=df['title']).drop_duplicates()"
   ]
  },
  {
   "cell_type": "code",
   "execution_count": 33,
   "metadata": {},
   "outputs": [
    {
     "data": {
      "text/plain": [
       "685               Lace Pencil Skirt, Created For Macy's\n",
       "118             Printed Scuba Skirt, Created For Macy's\n",
       "93       Printed Scuba Pencil Skirt, Created For Macy's\n",
       "28                             Scuba Crepe Pencil Skirt\n",
       "139       Zipper Pencil Scuba Skirt, Created for Macy's\n",
       "3      INC Solid Scuba Pencil Skirt, Created for Macy's\n",
       "147       Zipper Pencil Scuba Skirt, Created for Macy's\n",
       "356       Zipper Pencil Scuba Skirt, Created for Macy's\n",
       "42       Zipper Printed Scuba Skirt, Created for Macy's\n",
       "9                Denim Pencil Skirt, Created for Macy's\n",
       "Name: title, dtype: object"
      ]
     },
     "execution_count": 33,
     "metadata": {},
     "output_type": "execute_result"
    }
   ],
   "source": [
    "#Function that takes in movei title as input and give reccommendations\n",
    "def content_recommender(title, cosine_sim=cosine_sim, df=df, indices=indices):\n",
    "    #obtainthe index of the movie that matches the title\n",
    "    idx = indices[title]\n",
    "    #Getthe pairwise similarity scores of all movies with that movie\n",
    "    #Convertit into a list of tuples as described above\n",
    "    sim_scores = list(enumerate(cosine_sim[idx]))\n",
    "    #sortthe movies based on the cosine similarity scores\n",
    "    sim_scores = sorted(sim_scores, key = lambda x:  x[1], reverse = True)\n",
    "    #Get the scores of the 10 most similar movies. Ignore the first movie.\n",
    "    sim_scores = sim_scores[1:11]\n",
    "    #Get movie indices\n",
    "    movie_indices = [i[0] for i in sim_scores]\n",
    "    #Return the top 10 most similar movies\n",
    "    return df['title'].iloc[movie_indices]\n",
    "\n",
    "content_recommender(\"Scuba Pencil Skirt, Created for Macy's\")\n",
    "\n",
    "##Metadata Based Recommender\n",
    "#Load the keywords and credit files"
   ]
  }
 ],
 "metadata": {
  "kernelspec": {
   "display_name": "Python 3",
   "language": "python",
   "name": "python3"
  },
  "language_info": {
   "codemirror_mode": {
    "name": "ipython",
    "version": 3
   },
   "file_extension": ".py",
   "mimetype": "text/x-python",
   "name": "python",
   "nbconvert_exporter": "python",
   "pygments_lexer": "ipython3",
   "version": "3.7.4"
  }
 },
 "nbformat": 4,
 "nbformat_minor": 2
}
